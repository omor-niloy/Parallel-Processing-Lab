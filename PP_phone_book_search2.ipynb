{
  "nbformat": 4,
  "nbformat_minor": 0,
  "metadata": {
    "colab": {
      "provenance": [],
      "gpuType": "T4",
      "include_colab_link": true
    },
    "kernelspec": {
      "name": "python3",
      "display_name": "Python 3"
    },
    "language_info": {
      "name": "python"
    },
    "accelerator": "GPU"
  },
  "cells": [
    {
      "cell_type": "markdown",
      "metadata": {
        "id": "view-in-github",
        "colab_type": "text"
      },
      "source": [
        "<a href=\"https://colab.research.google.com/github/omor-niloy/Parallel-Processing-Lab/blob/main/PP_phone_book_search2.ipynb\" target=\"_parent\"><img src=\"https://colab.research.google.com/assets/colab-badge.svg\" alt=\"Open In Colab\"/></a>"
      ]
    },
    {
      "cell_type": "code",
      "execution_count": null,
      "metadata": {
        "colab": {
          "base_uri": "https://localhost:8080/"
        },
        "id": "ZDpvbLVUsVhY",
        "outputId": "42fc1019-1898-4d5a-f9f4-c3d44c6503e1"
      },
      "outputs": [
        {
          "output_type": "stream",
          "name": "stdout",
          "text": [
            "Overwriting phonebook_search.cu\n"
          ]
        }
      ],
      "source": [
        "%%writefile phonebook_search.cu\n",
        "#include <bits/stdc++.h>\n",
        "using namespace std;\n",
        "#include <cuda.h>\n",
        "\n",
        "struct Contact{\n",
        "    char name[65];\n",
        "    char phone_number[65];\n",
        "};\n",
        "\n",
        "void read_phonebook(string file_names, vector<Contact> &phoneBook)\n",
        "{\n",
        "    int cnt = 10;\n",
        "\n",
        "        ifstream f(file_names);\n",
        "        string line;\n",
        "        while (getline(f, line)) {\n",
        "            if (line.empty()) continue;\n",
        "            int comma = line.find(\",\");\n",
        "            if (comma == string::npos) continue;\n",
        "            // contacts.push_back({line.substr(1, comma - 2), line.substr(comma + 2, line.size() - comma - 3)});\n",
        "\n",
        "            string name = (line.substr(1, comma - 2));\n",
        "            string phoneNum = (line.substr(comma + 2, line.size() - comma - 3));\n",
        "            Contact c;\n",
        "            strcpy(c.name, name.c_str());\n",
        "            strcpy(c.phone_number, phoneNum.c_str());\n",
        "            phoneBook.push_back(c);\n",
        "            //cnt--;\n",
        "            if(cnt < 0)break;\n",
        "        }\n",
        "\n",
        "}\n",
        "\n",
        "__device__ bool check(char* str1, char* str2){\n",
        "    for(int i = 0; str1[i] != '\\0'; i++){\n",
        "        int flag = 1;\n",
        "        for(int j = 0; str2[j] != '\\0' ; j++){\n",
        "            if(str1[i + j] != str2[j]){\n",
        "                flag = 0;\n",
        "                break;\n",
        "            }\n",
        "        }\n",
        "        if(flag == 1) return true;\n",
        "    }\n",
        "    return false;\n",
        "}\n",
        "\n",
        "\n",
        "__global__ void myKernel(Contact* phoneBook, char* pat, int offset){\n",
        "    int threadNumber = threadIdx.x + offset;\n",
        "    if(check(phoneBook[threadNumber].name, pat)){\n",
        "        printf(\"%s %s\\n\", phoneBook[threadNumber].name, phoneBook[threadNumber].phone_number);\n",
        "    }\n",
        "}\n",
        "\n",
        "int main(int argc, char* argv[])\n",
        "{\n",
        "    int threadLimit = atoi(argv[2]);\n",
        "\n",
        "    vector<Contact> phoneBook;\n",
        "    read_phonebook( \"/content/drive/MyDrive/Copy of labtest_dataset1.txt\" , phoneBook);\n",
        "\n",
        "\n",
        "    string search_name = argv[1];\n",
        "    char pat[65];\n",
        "    strcpy(pat, search_name.c_str());\n",
        "\n",
        "\n",
        "    char* d_pat;\n",
        "    cudaMalloc(&d_pat, 65); //memory allocation\n",
        "    cudaMemcpy(d_pat, pat, 65, cudaMemcpyHostToDevice); //copying to device\n",
        "\n",
        "    int n = phoneBook.size();\n",
        "    Contact* d_phoneBook;\n",
        "    cudaMalloc(&d_phoneBook, n*sizeof(Contact));\n",
        "    cudaMemcpy(d_phoneBook, phoneBook.data(), n * sizeof(Contact), cudaMemcpyHostToDevice);\n",
        "\n",
        "\n",
        "    int bakiAche = n;\n",
        "    int offset = 0;\n",
        "    while(bakiAche > 0){\n",
        "        int batchSize = min(threadLimit, bakiAche);\n",
        "        myKernel<<<1,batchSize>>>(d_phoneBook, d_pat, offset);\n",
        "        cudaDeviceSynchronize();\n",
        "\n",
        "        bakiAche -= batchSize;\n",
        "        offset += batchSize;\n",
        "    }\n",
        "}"
      ]
    },
    {
      "cell_type": "code",
      "source": [
        "!nvcc -arch=sm_75 phonebook_search.cu -o phonebook_search"
      ],
      "metadata": {
        "id": "A53KP-XJxwId"
      },
      "execution_count": null,
      "outputs": []
    },
    {
      "cell_type": "code",
      "source": [
        "!time ./phonebook_search NOURIN 1 > output.txt"
      ],
      "metadata": {
        "colab": {
          "base_uri": "https://localhost:8080/"
        },
        "id": "L9Sew_x3yWnd",
        "outputId": "660f15b4-c307-4e10-ebcd-b16b3d2bc8de"
      },
      "execution_count": null,
      "outputs": [
        {
          "output_type": "stream",
          "name": "stdout",
          "text": [
            "\n",
            "real\t3m7.455s\n",
            "user\t3m2.190s\n",
            "sys\t0m3.963s\n"
          ]
        }
      ]
    },
    {
      "cell_type": "code",
      "source": [
        "!time ./phonebook_search SAKIA 2 > output.txt"
      ],
      "metadata": {
        "colab": {
          "base_uri": "https://localhost:8080/"
        },
        "id": "yI2fW4Vh3Y5n",
        "outputId": "07d87031-be45-4344-ab44-76e24edae818"
      },
      "execution_count": null,
      "outputs": [
        {
          "output_type": "stream",
          "name": "stdout",
          "text": [
            "\n",
            "real\t1m43.024s\n",
            "user\t1m38.235s\n",
            "sys\t0m3.942s\n"
          ]
        }
      ]
    },
    {
      "cell_type": "code",
      "source": [
        "!time ./phonebook_search SAKIA 4 > output.txt"
      ],
      "metadata": {
        "colab": {
          "base_uri": "https://localhost:8080/"
        },
        "id": "QqrzjCcU3a-p",
        "outputId": "e315e8cc-e447-4329-af12-c52cc3616ea1"
      },
      "execution_count": null,
      "outputs": [
        {
          "output_type": "stream",
          "name": "stdout",
          "text": [
            "\n",
            "real\t1m3.002s\n",
            "user\t0m58.459s\n",
            "sys\t0m3.789s\n"
          ]
        }
      ]
    },
    {
      "cell_type": "code",
      "source": [
        "!time ./phonebook_search NOURIN 500 > output.txt"
      ],
      "metadata": {
        "colab": {
          "base_uri": "https://localhost:8080/"
        },
        "id": "uA6HpQnA5BLA",
        "outputId": "fd2e1ffc-bd77-4084-8e4b-6eaee491ac39"
      },
      "execution_count": null,
      "outputs": [
        {
          "output_type": "stream",
          "name": "stdout",
          "text": [
            "\n",
            "real\t0m9.947s\n",
            "user\t0m5.928s\n",
            "sys\t0m3.762s\n"
          ]
        }
      ]
    }
  ]
}